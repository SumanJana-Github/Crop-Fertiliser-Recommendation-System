{
  "nbformat": 4,
  "nbformat_minor": 0,
  "metadata": {
    "colab": {
      "provenance": []
    },
    "kernelspec": {
      "name": "python3",
      "display_name": "Python 3"
    },
    "language_info": {
      "name": "python"
    }
  },
  "cells": [
    {
      "cell_type": "code",
      "execution_count": 1,
      "metadata": {
        "id": "bOcHIhHbJ0X7"
      },
      "outputs": [],
      "source": [
        "import numpy as np\n",
        "import pandas as pd\n",
        "import matplotlib.pyplot as plt\n",
        "import seaborn as sns"
      ]
    },
    {
      "cell_type": "code",
      "source": [
        "#read the data\n",
        "\n",
        "df = pd.read_csv('/content/Crop_Dataset.csv')\n",
        "df.head() #print first 5 records"
      ],
      "metadata": {
        "id": "xsdosXQuK1-c"
      },
      "execution_count": null,
      "outputs": []
    },
    {
      "cell_type": "code",
      "source": [
        "df.info() #display information about the dataset"
      ],
      "metadata": {
        "id": "G0riBFfdLcT-"
      },
      "execution_count": null,
      "outputs": []
    }
  ]
}